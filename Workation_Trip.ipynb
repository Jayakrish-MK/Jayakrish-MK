{
  "nbformat": 4,
  "nbformat_minor": 0,
  "metadata": {
    "colab": {
      "provenance": [],
      "authorship_tag": "ABX9TyMYXHICH4hzlDzhwc54Li99",
      "include_colab_link": true
    },
    "kernelspec": {
      "name": "python3",
      "display_name": "Python 3"
    },
    "language_info": {
      "name": "python"
    }
  },
  "cells": [
    {
      "cell_type": "markdown",
      "metadata": {
        "id": "view-in-github",
        "colab_type": "text"
      },
      "source": [
        "<a href=\"https://colab.research.google.com/github/Jayakrish-MK/Jayakrish-MK/blob/main/Workation_Trip.ipynb\" target=\"_parent\"><img src=\"https://colab.research.google.com/assets/colab-badge.svg\" alt=\"Open In Colab\"/></a>"
      ]
    },
    {
      "cell_type": "code",
      "execution_count": null,
      "metadata": {
        "id": "nml-RBx6syGX"
      },
      "outputs": [],
      "source": []
    },
    {
      "cell_type": "markdown",
      "source": [
        "In this competition, one has to use the knowledge of machine learning, deep learning, and model building to predict the price per person for your next workstation trip. The data has more than 18000+ rows of different packages with the details like start location, hotel type, cost per person, destination, Itinerary, and many more."
      ],
      "metadata": {
        "id": "yNvijnKCs4Nm"
      }
    },
    {
      "cell_type": "code",
      "source": [
        "# import the required libraries...\n",
        "\n",
        "import numpy as np\n",
        "import pandas as pd\n",
        "import matplotlib.pyplot as plt\n",
        "import seaborn as sns\n",
        "\n",
        "sns.set_style(\"whitegrid\")\n",
        "import warnings\n",
        "warnings.filterwarnings(\"ignore\")\n",
        "\n",
        "pd.set_option(\"display.max_columns\", 100)\n"
      ],
      "metadata": {
        "id": "1etsyJyouerd"
      },
      "execution_count": 2,
      "outputs": []
    },
    {
      "cell_type": "code",
      "source": [
        "# /content/Train.csv\n",
        "\n",
        "train = pd.read_csv(\"/content/Train.csv\")\n",
        "\n",
        "#/content/Test.csv\n",
        "test = pd.read_csv(\"/content/Test.csv\")\n",
        "train.head(1)"
      ],
      "metadata": {
        "colab": {
          "base_uri": "https://localhost:8080/",
          "height": 240
        },
        "id": "AF-CyTN5vP7x",
        "outputId": "438b32e4-5675-4016-c632-a96e0e17c00e"
      },
      "execution_count": 5,
      "outputs": [
        {
          "output_type": "execute_result",
          "data": {
            "text/plain": [
              "                            Uniq Id  \\\n",
              "0  e788ab76d9d8cf1e6ed2f139645ca5d1   \n",
              "\n",
              "                                   Package Name Package Type  \\\n",
              "0  Best of Shimla and Manali Holiday from Delhi     Standard   \n",
              "\n",
              "                          Destination  \\\n",
              "0  New Delhi|Shimla|Manali|Chandigarh   \n",
              "\n",
              "                                           Itinerary  \\\n",
              "0  1N New Delhi . 2N Shimla . 2N Manali . 1N Chan...   \n",
              "\n",
              "                       Places Covered Travel Date  Hotel Details Start City  \\\n",
              "0  New Delhi|Shimla|Manali|Chandigarh  30-07-2021  Not Available     Mumbai   \n",
              "\n",
              "         Airline  Flight Stops  Meals Sightseeing Places Covered  \\\n",
              "0  Not Available             2      3              Not Available   \n",
              "\n",
              "  Cancellation Rules  Per Person Price  \n",
              "0      Not Available           11509.0  "
            ],
            "text/html": [
              "\n",
              "  <div id=\"df-d064c48d-af61-41e9-87de-cd0424bd620b\" class=\"colab-df-container\">\n",
              "    <div>\n",
              "<style scoped>\n",
              "    .dataframe tbody tr th:only-of-type {\n",
              "        vertical-align: middle;\n",
              "    }\n",
              "\n",
              "    .dataframe tbody tr th {\n",
              "        vertical-align: top;\n",
              "    }\n",
              "\n",
              "    .dataframe thead th {\n",
              "        text-align: right;\n",
              "    }\n",
              "</style>\n",
              "<table border=\"1\" class=\"dataframe\">\n",
              "  <thead>\n",
              "    <tr style=\"text-align: right;\">\n",
              "      <th></th>\n",
              "      <th>Uniq Id</th>\n",
              "      <th>Package Name</th>\n",
              "      <th>Package Type</th>\n",
              "      <th>Destination</th>\n",
              "      <th>Itinerary</th>\n",
              "      <th>Places Covered</th>\n",
              "      <th>Travel Date</th>\n",
              "      <th>Hotel Details</th>\n",
              "      <th>Start City</th>\n",
              "      <th>Airline</th>\n",
              "      <th>Flight Stops</th>\n",
              "      <th>Meals</th>\n",
              "      <th>Sightseeing Places Covered</th>\n",
              "      <th>Cancellation Rules</th>\n",
              "      <th>Per Person Price</th>\n",
              "    </tr>\n",
              "  </thead>\n",
              "  <tbody>\n",
              "    <tr>\n",
              "      <th>0</th>\n",
              "      <td>e788ab76d9d8cf1e6ed2f139645ca5d1</td>\n",
              "      <td>Best of Shimla and Manali Holiday from Delhi</td>\n",
              "      <td>Standard</td>\n",
              "      <td>New Delhi|Shimla|Manali|Chandigarh</td>\n",
              "      <td>1N New Delhi . 2N Shimla . 2N Manali . 1N Chan...</td>\n",
              "      <td>New Delhi|Shimla|Manali|Chandigarh</td>\n",
              "      <td>30-07-2021</td>\n",
              "      <td>Not Available</td>\n",
              "      <td>Mumbai</td>\n",
              "      <td>Not Available</td>\n",
              "      <td>2</td>\n",
              "      <td>3</td>\n",
              "      <td>Not Available</td>\n",
              "      <td>Not Available</td>\n",
              "      <td>11509.0</td>\n",
              "    </tr>\n",
              "  </tbody>\n",
              "</table>\n",
              "</div>\n",
              "    <div class=\"colab-df-buttons\">\n",
              "\n",
              "  <div class=\"colab-df-container\">\n",
              "    <button class=\"colab-df-convert\" onclick=\"convertToInteractive('df-d064c48d-af61-41e9-87de-cd0424bd620b')\"\n",
              "            title=\"Convert this dataframe to an interactive table.\"\n",
              "            style=\"display:none;\">\n",
              "\n",
              "  <svg xmlns=\"http://www.w3.org/2000/svg\" height=\"24px\" viewBox=\"0 -960 960 960\">\n",
              "    <path d=\"M120-120v-720h720v720H120Zm60-500h600v-160H180v160Zm220 220h160v-160H400v160Zm0 220h160v-160H400v160ZM180-400h160v-160H180v160Zm440 0h160v-160H620v160ZM180-180h160v-160H180v160Zm440 0h160v-160H620v160Z\"/>\n",
              "  </svg>\n",
              "    </button>\n",
              "\n",
              "  <style>\n",
              "    .colab-df-container {\n",
              "      display:flex;\n",
              "      gap: 12px;\n",
              "    }\n",
              "\n",
              "    .colab-df-convert {\n",
              "      background-color: #E8F0FE;\n",
              "      border: none;\n",
              "      border-radius: 50%;\n",
              "      cursor: pointer;\n",
              "      display: none;\n",
              "      fill: #1967D2;\n",
              "      height: 32px;\n",
              "      padding: 0 0 0 0;\n",
              "      width: 32px;\n",
              "    }\n",
              "\n",
              "    .colab-df-convert:hover {\n",
              "      background-color: #E2EBFA;\n",
              "      box-shadow: 0px 1px 2px rgba(60, 64, 67, 0.3), 0px 1px 3px 1px rgba(60, 64, 67, 0.15);\n",
              "      fill: #174EA6;\n",
              "    }\n",
              "\n",
              "    .colab-df-buttons div {\n",
              "      margin-bottom: 4px;\n",
              "    }\n",
              "\n",
              "    [theme=dark] .colab-df-convert {\n",
              "      background-color: #3B4455;\n",
              "      fill: #D2E3FC;\n",
              "    }\n",
              "\n",
              "    [theme=dark] .colab-df-convert:hover {\n",
              "      background-color: #434B5C;\n",
              "      box-shadow: 0px 1px 3px 1px rgba(0, 0, 0, 0.15);\n",
              "      filter: drop-shadow(0px 1px 2px rgba(0, 0, 0, 0.3));\n",
              "      fill: #FFFFFF;\n",
              "    }\n",
              "  </style>\n",
              "\n",
              "    <script>\n",
              "      const buttonEl =\n",
              "        document.querySelector('#df-d064c48d-af61-41e9-87de-cd0424bd620b button.colab-df-convert');\n",
              "      buttonEl.style.display =\n",
              "        google.colab.kernel.accessAllowed ? 'block' : 'none';\n",
              "\n",
              "      async function convertToInteractive(key) {\n",
              "        const element = document.querySelector('#df-d064c48d-af61-41e9-87de-cd0424bd620b');\n",
              "        const dataTable =\n",
              "          await google.colab.kernel.invokeFunction('convertToInteractive',\n",
              "                                                    [key], {});\n",
              "        if (!dataTable) return;\n",
              "\n",
              "        const docLinkHtml = 'Like what you see? Visit the ' +\n",
              "          '<a target=\"_blank\" href=https://colab.research.google.com/notebooks/data_table.ipynb>data table notebook</a>'\n",
              "          + ' to learn more about interactive tables.';\n",
              "        element.innerHTML = '';\n",
              "        dataTable['output_type'] = 'display_data';\n",
              "        await google.colab.output.renderOutput(dataTable, element);\n",
              "        const docLink = document.createElement('div');\n",
              "        docLink.innerHTML = docLinkHtml;\n",
              "        element.appendChild(docLink);\n",
              "      }\n",
              "    </script>\n",
              "  </div>\n",
              "\n",
              "\n",
              "    </div>\n",
              "  </div>\n"
            ],
            "application/vnd.google.colaboratory.intrinsic+json": {
              "type": "dataframe",
              "variable_name": "train",
              "summary": "{\n  \"name\": \"train\",\n  \"rows\": 21000,\n  \"fields\": [\n    {\n      \"column\": \"Uniq Id\",\n      \"properties\": {\n        \"dtype\": \"string\",\n        \"num_unique_values\": 21000,\n        \"samples\": [\n          \"8fe4c568ab9ae7532a7128ded95c7abc\",\n          \"1cb72c48a6d7c06e098e5a9d5c731b5f\",\n          \"3959e3a8ca6b7d43ea793f0d7a83da0e\"\n        ],\n        \"semantic_type\": \"\",\n        \"description\": \"\"\n      }\n    },\n    {\n      \"column\": \"Package Name\",\n      \"properties\": {\n        \"dtype\": \"category\",\n        \"num_unique_values\": 2204,\n        \"samples\": [\n          \"Experience Trout Fishing in Manali - Volvo Tickets included\",\n          \"Trip to Kalimpong and Darjeeling - Toy Train Special\",\n          \"Jaipur - A Cycling Expedition to Nahargarh Fort (Online)\"\n        ],\n        \"semantic_type\": \"\",\n        \"description\": \"\"\n      }\n    },\n    {\n      \"column\": \"Package Type\",\n      \"properties\": {\n        \"dtype\": \"category\",\n        \"num_unique_values\": 5,\n        \"samples\": [\n          \"Premium\",\n          \"Budget\",\n          \"Luxury\"\n        ],\n        \"semantic_type\": \"\",\n        \"description\": \"\"\n      }\n    },\n    {\n      \"column\": \"Destination\",\n      \"properties\": {\n        \"dtype\": \"category\",\n        \"num_unique_values\": 565,\n        \"samples\": [\n          \"Copenhagen|Moscow\",\n          \"Nasik|Shirdi\",\n          \"Ooty|Wayanad\"\n        ],\n        \"semantic_type\": \"\",\n        \"description\": \"\"\n      }\n    },\n    {\n      \"column\": \"Itinerary\",\n      \"properties\": {\n        \"dtype\": \"category\",\n        \"num_unique_values\": 966,\n        \"samples\": [\n          \"2N Srinagar . 1N Pahalgam . 1N Gulmarg . 1N Srinagar\",\n          \"2N Munnar . 1N Thekkady . 2N Kumarakom . 2N Kovalam and Poovar\",\n          \"2N Dharamshala . 2N Dalhousie . 1N Amritsar\"\n        ],\n        \"semantic_type\": \"\",\n        \"description\": \"\"\n      }\n    },\n    {\n      \"column\": \"Places Covered\",\n      \"properties\": {\n        \"dtype\": \"category\",\n        \"num_unique_values\": 565,\n        \"samples\": [\n          \"Copenhagen|Moscow\",\n          \"Nasik|Shirdi\",\n          \"Ooty|Wayanad\"\n        ],\n        \"semantic_type\": \"\",\n        \"description\": \"\"\n      }\n    },\n    {\n      \"column\": \"Travel Date\",\n      \"properties\": {\n        \"dtype\": \"object\",\n        \"num_unique_values\": 495,\n        \"samples\": [\n          \"17-04-2022\",\n          \"04-07-2021\",\n          \"28-03-2021\"\n        ],\n        \"semantic_type\": \"\",\n        \"description\": \"\"\n      }\n    },\n    {\n      \"column\": \"Hotel Details\",\n      \"properties\": {\n        \"dtype\": \"category\",\n        \"num_unique_values\": 6060,\n        \"samples\": [\n          \"Lhaki Hotel:3.5|Hotel Jumolhari:3.5|Dhensa Boutique Resort:4.5|Resort Paro Drugyel:5.0|Lhaki Hotel:3.5\",\n          \"Hotel Dalhousie Heights:3.3|Hotel BobsnBarley:3.6|Hotel Sapphire:3.6\",\n          \"Fortune Select Grand Ridge-Member ITC Hotel Group:4.1\"\n        ],\n        \"semantic_type\": \"\",\n        \"description\": \"\"\n      }\n    },\n    {\n      \"column\": \"Start City\",\n      \"properties\": {\n        \"dtype\": \"category\",\n        \"num_unique_values\": 2,\n        \"samples\": [\n          \"New Delhi\",\n          \"Mumbai\"\n        ],\n        \"semantic_type\": \"\",\n        \"description\": \"\"\n      }\n    },\n    {\n      \"column\": \"Airline\",\n      \"properties\": {\n        \"dtype\": \"category\",\n        \"num_unique_values\": 314,\n        \"samples\": [\n          \"AirAsia X|AirAsia|Thai AirAsia|Vistara\",\n          \"Vistara|Go Air\"\n        ],\n        \"semantic_type\": \"\",\n        \"description\": \"\"\n      }\n    },\n    {\n      \"column\": \"Flight Stops\",\n      \"properties\": {\n        \"dtype\": \"number\",\n        \"std\": 0,\n        \"min\": 0,\n        \"max\": 2,\n        \"num_unique_values\": 3,\n        \"samples\": [\n          2,\n          0\n        ],\n        \"semantic_type\": \"\",\n        \"description\": \"\"\n      }\n    },\n    {\n      \"column\": \"Meals\",\n      \"properties\": {\n        \"dtype\": \"number\",\n        \"std\": 0,\n        \"min\": 2,\n        \"max\": 5,\n        \"num_unique_values\": 4,\n        \"samples\": [\n          5,\n          2\n        ],\n        \"semantic_type\": \"\",\n        \"description\": \"\"\n      }\n    },\n    {\n      \"column\": \"Sightseeing Places Covered\",\n      \"properties\": {\n        \"dtype\": \"category\",\n        \"num_unique_values\": 1714,\n        \"samples\": [\n          \" Corbyn's Cove | Cellular Jail | Transfer for Luxury Dinner Cruise TSG Bella Bay - MMT | Luxury Dinner Cruise aboard the TSG Bella Bay Cruise Ship, Port Blair (Without Transfers) - MMT | Light and Sound Show at Cellular Jail, Port Blair(Entry Ticket) | North Bay Island Andaman | Anthropological Museum | North Bay Island Entry Ticket (Without Transfers) | Anthropological Museum Entry Ticket (Without Transfers) | MAK- Shared Transfers Port Blair to Havelock Island by Ferry | Radhanagar Beach | MAK- Shared Transfers Havelock to Port Blair by Ferry | Cellular Jail | Chidiya Tapu | Sunset Picnic at Chidiya Tapu Beach in Port Blair - MMT (Entry Ticket) | Cellular Jail Entry Ticket (Without Transfers) \",\n          \" Ruwanweliseya | Abhayagiri Monastery Complex | Jetavanarama Monastery | Thuparama | Koneshwaram Temple | Dambulla Cave Temple | Sigiriya Rock Fortress | Temple of Tooth Relic | Peradeniya Botanical Garden | Gem Museum | Golf Club | Victoria Park | Gregory Lake | Sita Amman Temple | Hakgala Gardens | Pedro Tea estate \"\n        ],\n        \"semantic_type\": \"\",\n        \"description\": \"\"\n      }\n    },\n    {\n      \"column\": \"Cancellation Rules\",\n      \"properties\": {\n        \"dtype\": \"category\",\n        \"num_unique_values\": 10,\n        \"samples\": [\n          \"Packages will be escorted by Local Representative of the Vendor on the day of Full or Half day tours as per itinerary.Vendor Representative are English speaking &\\u00a0 Explain about the Tours in English Language Only. Package has the flexibility to add extra Nights before start of the Tour and at the end of the tour. Please contact MMT representative.Package has the flexibility to add extra Optional tours within the itinerary subject to time availability in each Package. Please contact MMT representative.Price of the Holiday Services are calculated per passenger on twin-sharing basis.The taxes mentioned are taxes as applicable on September 1st, 2017. In the event of increase in the rate of taxation, the differential amount will be payable by the customer. A surcharge may be applicable for certain departures.Service tax charges will apply, as applicable.Cost of deviation and cost of extension of the validity on your ticket is not included.Porter fees at hotels, airports and seaports is not included in the Holiday Services and has to be borne by the customer.Cost of expenses of personal nature such as, laundry, telephone calls, room service, alcoholic beverages, mini bar etc., are not included.Any other items not mentioned in the Inclusions list are not included in the cost of the Holiday Services.Prices are dynamic and based on offers running at the time of booking. MMT reserves the right to change prices at any time.In case the selected hotel is unavailable for booking, an alternate arrangement will be offered to the customer in a hotel of similar category.Due to operational reasons, the routing of this holiday may be amended. However, all mentioned services will remain unchanged.Pricing of the Holiday Services is based on the age of the passengers. Please make sure you enter it correctly at the time of booking. Furnishing wrong passenger age may incur penalty at a later stage.\",\n          \"Cancellation any time after making the 1st payment instalment till the 2nd payment date:The entire amount paid as 1st payment instalment (deposit) would be non-refundable.Cancellation after 2nd payment instalment and before 3rd or final payment date:The total amount that was due at the 2nd payment instalment as per your payment schedule would be non-refundable; anything that you have paid over and above this amount would be refundable.Cancellation after 3rd or final payment date:The full amount paid by you would be non-refundable.\"\n        ],\n        \"semantic_type\": \"\",\n        \"description\": \"\"\n      }\n    },\n    {\n      \"column\": \"Per Person Price\",\n      \"properties\": {\n        \"dtype\": \"number\",\n        \"std\": 11643.641766347971,\n        \"min\": 791.0,\n        \"max\": 171062.5,\n        \"num_unique_values\": 17138,\n        \"samples\": [\n          19688.5,\n          15846.5\n        ],\n        \"semantic_type\": \"\",\n        \"description\": \"\"\n      }\n    }\n  ]\n}"
            }
          },
          "metadata": {},
          "execution_count": 5
        }
      ]
    },
    {
      "cell_type": "code",
      "source": [
        "# combined the train and test set\n",
        "\n",
        "combined = pd.concat([train, test],ignore_index=True)\n",
        "train.shape, test.shape, combined.shape\n"
      ],
      "metadata": {
        "colab": {
          "base_uri": "https://localhost:8080/"
        },
        "id": "9vYz3uJBwuM4",
        "outputId": "4036a280-4a77-49f6-a364-68185a5d2632"
      },
      "execution_count": 7,
      "outputs": [
        {
          "output_type": "execute_result",
          "data": {
            "text/plain": [
              "((21000, 15), (9000, 14), (30000, 15))"
            ]
          },
          "metadata": {},
          "execution_count": 7
        }
      ]
    },
    {
      "cell_type": "code",
      "source": [
        "combined.columns"
      ],
      "metadata": {
        "colab": {
          "base_uri": "https://localhost:8080/"
        },
        "id": "wv5oxH2QyGmV",
        "outputId": "38a9b4b9-49c2-4d06-ea91-a492f5d4dee9"
      },
      "execution_count": 8,
      "outputs": [
        {
          "output_type": "execute_result",
          "data": {
            "text/plain": [
              "Index(['Uniq Id', 'Package Name', 'Package Type', 'Destination', 'Itinerary',\n",
              "       'Places Covered', 'Travel Date', 'Hotel Details', 'Start City',\n",
              "       'Airline', 'Flight Stops', 'Meals', 'Sightseeing Places Covered',\n",
              "       'Cancellation Rules', 'Per Person Price'],\n",
              "      dtype='object')"
            ]
          },
          "metadata": {},
          "execution_count": 8
        }
      ]
    },
    {
      "cell_type": "code",
      "source": [
        "# let's check the target variable\n",
        "\n",
        "sns.distplot(combined[\"Per Person Price\"],color=\"coral\")\n",
        "plt.show()"
      ],
      "metadata": {
        "colab": {
          "base_uri": "https://localhost:8080/",
          "height": 465
        },
        "id": "8c-jBX5UyKru",
        "outputId": "ca32267a-3f80-4a84-9330-293af859a8a7"
      },
      "execution_count": 10,
      "outputs": [
        {
          "output_type": "display_data",
          "data": {
            "text/plain": [
              "<Figure size 640x480 with 1 Axes>"
            ],
            "image/png": "[encoded data removed]"
          },
          "metadata": {}
        }
      ]
    },
    {
      "cell_type": "code",
      "source": [
        "len(combined[\"Places Covered\"][0].split(\"|\"))"
      ],
      "metadata": {
        "colab": {
          "base_uri": "https://localhost:8080/"
        },
        "id": "6OZMFU6Iy4QM",
        "outputId": "0635b776-73d9-4ee1-eed8-c6317e9160d8"
      },
      "execution_count": 14,
      "outputs": [
        {
          "output_type": "execute_result",
          "data": {
            "text/plain": [
              "4"
            ]
          },
          "metadata": {},
          "execution_count": 14
        }
      ]
    },
    {
      "cell_type": "code",
      "source": [
        "# count of places visited\n",
        "places = []\n",
        "\n",
        "for i in combined[\"Places Covered\"]:\n",
        "  places.append(len(i.split(\"|\")))"
      ],
      "metadata": {
        "id": "3XKHY8bS8Pnh"
      },
      "execution_count": 16,
      "outputs": []
    },
    {
      "cell_type": "code",
      "source": [
        "combined[\"Count_Places\"] = pd.Series(places)"
      ],
      "metadata": {
        "id": "VcxIeFbH827D"
      },
      "execution_count": 17,
      "outputs": []
    },
    {
      "cell_type": "code",
      "source": [
        "# sight seeing places covered\n",
        "\n",
        "sights = []\n",
        "\n",
        "for i in combined[\"Sightseeing Places Covered\"]:\n",
        "  sights.append(len(i.split(\"|\")))"
      ],
      "metadata": {
        "id": "OETIuF3i9UpE"
      },
      "execution_count": 20,
      "outputs": []
    },
    {
      "cell_type": "code",
      "source": [
        "combined[\"Count_SS\"] = pd.Series(sights)"
      ],
      "metadata": {
        "id": "pQ4E46ZB9gAA"
      },
      "execution_count": 21,
      "outputs": []
    },
    {
      "cell_type": "code",
      "source": [
        "flights = []\n",
        "\n",
        "for i in combined[\"Airline\"]:\n",
        "  flights.append(len(i.split(\"|\")))"
      ],
      "metadata": {
        "id": "mfl6smXg-DVR"
      },
      "execution_count": 23,
      "outputs": []
    },
    {
      "cell_type": "code",
      "source": [
        "combined[\"Count_Flights\"] = pd.Series(flights)"
      ],
      "metadata": {
        "id": "X9gqm0EM_A9A"
      },
      "execution_count": 24,
      "outputs": []
    },
    {
      "cell_type": "code",
      "source": [
        "# convert Travel Date from Object to Date Time\n",
        "\n",
        "combined[\"Travel Date\"] = pd.to_datetime(combined[\"Travel Date\"])"
      ],
      "metadata": {
        "id": "hOhYrKM8_Wb8"
      },
      "execution_count": 26,
      "outputs": []
    },
    {
      "cell_type": "code",
      "source": [
        "# Extract the Date, Month, Year\n",
        "\n",
        "combined[\"Date\"] = combined[\"Travel Date\"].dt.day\n",
        "combined[\"Month\"] = combined[\"Travel Date\"].dt.month\n",
        "combined[\"Year\"] = combined[\"Travel Date\"].dt.year"
      ],
      "metadata": {
        "id": "AL-copC4_j8N"
      },
      "execution_count": 29,
      "outputs": []
    },
    {
      "cell_type": "code",
      "source": [
        "# Extract the pattern with the target variable\n",
        "\n",
        "max_month = combined.groupby(\"Month\")[\"Per Person Price\"].max()\n"
      ],
      "metadata": {
        "id": "2vqQN3E5BM-B"
      },
      "execution_count": 30,
      "outputs": []
    },
    {
      "cell_type": "code",
      "source": [
        "max_month.plot(kind=\"line\",marker = \"o\", color=\"red\")\n",
        "plt.title(\"Max Spent over Months\")\n",
        "plt.show() # Peak Months ==>[4,5,7,9,10]"
      ],
      "metadata": {
        "colab": {
          "base_uri": "https://localhost:8080/",
          "height": 472
        },
        "id": "J3-rnuy1EPUU",
        "outputId": "6432a31a-b767-41e7-c28c-e9efbb0f20c2"
      },
      "execution_count": 31,
      "outputs": [
        {
          "output_type": "display_data",
          "data": {
            "text/plain": [
              "<Figure size 640x480 with 1 Axes>"
            ],
            "image/png": "[encoded data removed]"
          },
          "metadata": {}
        }
      ]
    },
    {
      "cell_type": "code",
      "source": [
        "peak = [4,5,7,9,10]\n",
        "\n",
        "def peaks(x):\n",
        "  if x in peak:\n",
        "    return (\"peak Month\")\n",
        "  else:\n",
        "    return (\"Lean Month\")"
      ],
      "metadata": {
        "id": "u3nToY5zEoMR"
      },
      "execution_count": 36,
      "outputs": []
    },
    {
      "cell_type": "code",
      "source": [
        "combined[\"Peak_Months\"]=combined['Month'].apply(peaks)"
      ],
      "metadata": {
        "id": "8FwdXi3bFc29"
      },
      "execution_count": 38,
      "outputs": []
    },
    {
      "cell_type": "code",
      "source": [
        "max_days = combined.groupby(\"Date\")[\"Per Person Price\"].max()"
      ],
      "metadata": {
        "id": "qQo1shtHIcv0"
      },
      "execution_count": 40,
      "outputs": []
    },
    {
      "cell_type": "code",
      "source": [
        "max_days.plot(kind=\"line\",marker = \"o\", color=\"red\")\n",
        "plt.title(\"Max Spent over Days\")\n",
        "plt.show() # Peak Days ==>[2,4,5,7,8,10,11,13,15,18,19,21,22,24,27,29]"
      ],
      "metadata": {
        "colab": {
          "base_uri": "https://localhost:8080/",
          "height": 472
        },
        "id": "6yy84eXcJGPQ",
        "outputId": "4a746eb4-e55a-41d0-ee7f-817dc0aaad97"
      },
      "execution_count": 42,
      "outputs": [
        {
          "output_type": "display_data",
          "data": {
            "text/plain": [
              "<Figure size 640x480 with 1 Axes>"
            ],
            "image/png": "[encoded data removed]"
          },
          "metadata": {}
        }
      ]
    },
    {
      "cell_type": "code",
      "source": [
        "peak_days = [2,4,5,7,8,10,11,13,15,18,19,21,22,24,27,29]\n",
        "\n",
        "combined[\"Peak_Days\"]=combined.Date.apply(lambda x: \"peak_days\"\n",
        "                    if x in peak_days else \"Lean_days\")"
      ],
      "metadata": {
        "id": "vsWgCimTJZUZ"
      },
      "execution_count": 43,
      "outputs": []
    },
    {
      "cell_type": "code",
      "source": [
        "sns.boxplot(x=\"Peak_Days\",y=\"Per Person Price\",data=combined)\n",
        "plt.show()"
      ],
      "metadata": {
        "colab": {
          "base_uri": "https://localhost:8080/",
          "height": 450
        },
        "id": "ubMTlJMJKC4Z",
        "outputId": "a4ab8cc6-c104-4703-d409-07157d03fb6a"
      },
      "execution_count": 46,
      "outputs": [
        {
          "output_type": "display_data",
          "data": {
            "text/plain": [
              "<Figure size 640x480 with 1 Axes>"
            ],
            "image/png": "[encoded data removed]"
          },
          "metadata": {}
        }
      ]
    },
    {
      "cell_type": "code",
      "source": [
        "combined[\"Itinerary\"][0].split(\".\")"
      ],
      "metadata": {
        "colab": {
          "base_uri": "https://localhost:8080/"
        },
        "id": "bgNEBRLQKlSM",
        "outputId": "f68466f9-6277-4255-cf14-3170cb99fd22"
      },
      "execution_count": 47,
      "outputs": [
        {
          "output_type": "execute_result",
          "data": {
            "text/plain": [
              "['1N New Delhi ', ' 2N Shimla ', ' 2N Manali ', ' 1N Chandigarh']"
            ]
          },
          "metadata": {},
          "execution_count": 47
        }
      ]
    },
    {
      "cell_type": "code",
      "source": [
        "combined[\"Hotel Details\"][3] # \\d\\.\\d"
      ],
      "metadata": {
        "colab": {
          "base_uri": "https://localhost:8080/",
          "height": 53
        },
        "id": "i9QTwVPgP78i",
        "outputId": "91ea49d3-12b2-4c08-b7b4-fab3c86889aa"
      },
      "execution_count": 48,
      "outputs": [
        {
          "output_type": "execute_result",
          "data": {
            "text/plain": [
              "'Elixir Hills Suites Resort & Spa-MMT Holidays Special:4.6|The Zuri Kumarakom, Kerala Resort & Spa:4.6|Marari Beach - CGH Earth:4.3|Estuary Sarovar Portico:'"
            ],
            "application/vnd.google.colaboratory.intrinsic+json": {
              "type": "string"
            }
          },
          "metadata": {},
          "execution_count": 48
        }
      ]
    },
    {
      "cell_type": "code",
      "source": [
        "import re\n",
        "\n",
        "locs=\"'1N New Delhi ', ' 2N Shimla ', ' 2N Manali ', ' 1N Chandigarh'\"\n",
        "pd.to_numeric(re.findall(r\"\\d\",locs))\n"
      ],
      "metadata": {
        "colab": {
          "base_uri": "https://localhost:8080/"
        },
        "id": "Qg_ZarlRQExL",
        "outputId": "6dc3fefd-0cce-47c8-a80b-f5da89c796c3"
      },
      "execution_count": 51,
      "outputs": [
        {
          "output_type": "execute_result",
          "data": {
            "text/plain": [
              "array([1, 2, 2, 1])"
            ]
          },
          "metadata": {},
          "execution_count": 51
        }
      ]
    },
    {
      "cell_type": "code",
      "source": [
        "combined[\"Duration\"] = combined['Itinerary'].apply(lambda \\\n",
        "                            x:np.sum(pd.to_numeric(re.findall(\"\\d\",x))))"
      ],
      "metadata": {
        "id": "56hnxVxJXOyr"
      },
      "execution_count": 53,
      "outputs": []
    },
    {
      "cell_type": "code",
      "source": [
        "# extract ratings\n",
        "\n",
        "text = \"Elixir Hills Suites Resort & Spa-MMT Holidays Special:4.6|The Zuri Kumarakom, Kerala Resort & Spa:4.6|Marari Beach - CGH Earth:4.3|Estuary Sarovar Portico:\"\n",
        "\n",
        "np.mean(pd.to_numeric(re.findall(\"\\d\\.\\d\",text)))"
      ],
      "metadata": {
        "colab": {
          "base_uri": "https://localhost:8080/"
        },
        "id": "xpnDOa36YTvn",
        "outputId": "afe51239-5889-4153-9568-bdd0618de649"
      },
      "execution_count": 61,
      "outputs": [
        {
          "output_type": "execute_result",
          "data": {
            "text/plain": [
              "4.5"
            ]
          },
          "metadata": {},
          "execution_count": 61
        }
      ]
    },
    {
      "cell_type": "code",
      "source": [
        "combined[\"Ratings\"]=combined[\"Hotel Details\"].apply(lambda\n",
        "                                                    x: np.mean(pd.to_numeric(re.findall(\"\\d\\.\\d\",x))))"
      ],
      "metadata": {
        "id": "Y_CIUzvwY8a_"
      },
      "execution_count": 60,
      "outputs": []
    },
    {
      "cell_type": "code",
      "source": [
        "# Missing value in Ratings\n",
        "\n",
        "combined.Ratings.fillna(combined.Ratings.median(),inplace=True)"
      ],
      "metadata": {
        "id": "BujsEMylZ6FT"
      },
      "execution_count": 62,
      "outputs": []
    },
    {
      "cell_type": "code",
      "source": [
        "newdata = combined.drop([\"Uniq Id\",\"Destination\",\"Itinerary\",\"Places Covered\",\"Travel Date\",\"Hotel Details\",\n",
        "               \"Airline\",\"Sightseeing Places Covered\",\"Cancellation Rules\",\"Date\",\"Month\"],axis=1)"
      ],
      "metadata": {
        "id": "JFrpIKWAayQv"
      },
      "execution_count": 66,
      "outputs": []
    },
    {
      "cell_type": "code",
      "source": [
        "newdata.head()"
      ],
      "metadata": {
        "colab": {
          "base_uri": "https://localhost:8080/",
          "height": 521
        },
        "id": "L3D9nDAwbkoG",
        "outputId": "2b5c499c-7c2c-4e6a-e537-360df3e98c64"
      },
      "execution_count": 67,
      "outputs": [
        {
          "output_type": "execute_result",
          "data": {
            "text/plain": [
              "                                   Package Name Package Type Start City  \\\n",
              "0  Best of Shimla and Manali Holiday from Delhi     Standard     Mumbai   \n",
              "1                       Kashmir Valley vacation      Premium  New Delhi   \n",
              "2       Might of Mewar- Udaipur and Chittorgarh       Luxury  New Delhi   \n",
              "3          Colorful Kerala ( Romantic Getaway )      Premium  New Delhi   \n",
              "4                   A Week In Bangkok & Pattaya      Premium  New Delhi   \n",
              "\n",
              "   Flight Stops  Meals  Per Person Price  Count_Places  Count_SS  \\\n",
              "0             2      3           11509.0             4         1   \n",
              "1             0      5           22485.5             3         7   \n",
              "2             0      4           12421.5             2         8   \n",
              "3             0      5           35967.0             4         9   \n",
              "4             0      5           25584.0             2         2   \n",
              "\n",
              "   Count_Flights  Year Peak_Months  Peak_Days  Duration   Ratings  \n",
              "0              1  2021  peak Month  Lean_days         6  4.100000  \n",
              "1              2  2021  Lean Month  peak_days         4  4.433333  \n",
              "2              1  2021  peak Month  Lean_days         3  4.400000  \n",
              "3              1  2021  Lean Month  peak_days         6  4.500000  \n",
              "4              2  2021  Lean Month  Lean_days         7  4.350000  "
            ],
            "text/html": [
              "\n",
              "  <div id=\"df-42c0c8fb-7c98-4e34-b843-13a80b95b04a\" class=\"colab-df-container\">\n",
              "    <div>\n",
              "<style scoped>\n",
              "    .dataframe tbody tr th:only-of-type {\n",
              "        vertical-align: middle;\n",
              "    }\n",
              "\n",
              "    .dataframe tbody tr th {\n",
              "        vertical-align: top;\n",
              "    }\n",
              "\n",
              "    .dataframe thead th {\n",
              "        text-align: right;\n",
              "    }\n",
              "</style>\n",
              "<table border=\"1\" class=\"dataframe\">\n",
              "  <thead>\n",
              "    <tr style=\"text-align: right;\">\n",
              "      <th></th>\n",
              "      <th>Package Name</th>\n",
              "      <th>Package Type</th>\n",
              "      <th>Start City</th>\n",
              "      <th>Flight Stops</th>\n",
              "      <th>Meals</th>\n",
              "      <th>Per Person Price</th>\n",
              "      <th>Count_Places</th>\n",
              "      <th>Count_SS</th>\n",
              "      <th>Count_Flights</th>\n",
              "      <th>Year</th>\n",
              "      <th>Peak_Months</th>\n",
              "      <th>Peak_Days</th>\n",
              "      <th>Duration</th>\n",
              "      <th>Ratings</th>\n",
              "    </tr>\n",
              "  </thead>\n",
              "  <tbody>\n",
              "    <tr>\n",
              "      <th>0</th>\n",
              "      <td>Best of Shimla and Manali Holiday from Delhi</td>\n",
              "      <td>Standard</td>\n",
              "      <td>Mumbai</td>\n",
              "      <td>2</td>\n",
              "      <td>3</td>\n",
              "      <td>11509.0</td>\n",
              "      <td>4</td>\n",
              "      <td>1</td>\n",
              "      <td>1</td>\n",
              "      <td>2021</td>\n",
              "      <td>peak Month</td>\n",
              "      <td>Lean_days</td>\n",
              "      <td>6</td>\n",
              "      <td>4.100000</td>\n",
              "    </tr>\n",
              "    <tr>\n",
              "      <th>1</th>\n",
              "      <td>Kashmir Valley vacation</td>\n",
              "      <td>Premium</td>\n",
              "      <td>New Delhi</td>\n",
              "      <td>0</td>\n",
              "      <td>5</td>\n",
              "      <td>22485.5</td>\n",
              "      <td>3</td>\n",
              "      <td>7</td>\n",
              "      <td>2</td>\n",
              "      <td>2021</td>\n",
              "      <td>Lean Month</td>\n",
              "      <td>peak_days</td>\n",
              "      <td>4</td>\n",
              "      <td>4.433333</td>\n",
              "    </tr>\n",
              "    <tr>\n",
              "      <th>2</th>\n",
              "      <td>Might of Mewar- Udaipur and Chittorgarh</td>\n",
              "      <td>Luxury</td>\n",
              "      <td>New Delhi</td>\n",
              "      <td>0</td>\n",
              "      <td>4</td>\n",
              "      <td>12421.5</td>\n",
              "      <td>2</td>\n",
              "      <td>8</td>\n",
              "      <td>1</td>\n",
              "      <td>2021</td>\n",
              "      <td>peak Month</td>\n",
              "      <td>Lean_days</td>\n",
              "      <td>3</td>\n",
              "      <td>4.400000</td>\n",
              "    </tr>\n",
              "    <tr>\n",
              "      <th>3</th>\n",
              "      <td>Colorful Kerala ( Romantic Getaway )</td>\n",
              "      <td>Premium</td>\n",
              "      <td>New Delhi</td>\n",
              "      <td>0</td>\n",
              "      <td>5</td>\n",
              "      <td>35967.0</td>\n",
              "      <td>4</td>\n",
              "      <td>9</td>\n",
              "      <td>1</td>\n",
              "      <td>2021</td>\n",
              "      <td>Lean Month</td>\n",
              "      <td>peak_days</td>\n",
              "      <td>6</td>\n",
              "      <td>4.500000</td>\n",
              "    </tr>\n",
              "    <tr>\n",
              "      <th>4</th>\n",
              "      <td>A Week In Bangkok &amp; Pattaya</td>\n",
              "      <td>Premium</td>\n",
              "      <td>New Delhi</td>\n",
              "      <td>0</td>\n",
              "      <td>5</td>\n",
              "      <td>25584.0</td>\n",
              "      <td>2</td>\n",
              "      <td>2</td>\n",
              "      <td>2</td>\n",
              "      <td>2021</td>\n",
              "      <td>Lean Month</td>\n",
              "      <td>Lean_days</td>\n",
              "      <td>7</td>\n",
              "      <td>4.350000</td>\n",
              "    </tr>\n",
              "  </tbody>\n",
              "</table>\n",
              "</div>\n",
              "    <div class=\"colab-df-buttons\">\n",
              "\n",
              "  <div class=\"colab-df-container\">\n",
              "    <button class=\"colab-df-convert\" onclick=\"convertToInteractive('df-42c0c8fb-7c98-4e34-b843-13a80b95b04a')\"\n",
              "            title=\"Convert this dataframe to an interactive table.\"\n",
              "            style=\"display:none;\">\n",
              "\n",
              "  <svg xmlns=\"http://www.w3.org/2000/svg\" height=\"24px\" viewBox=\"0 -960 960 960\">\n",
              "    <path d=\"M120-120v-720h720v720H120Zm60-500h600v-160H180v160Zm220 220h160v-160H400v160Zm0 220h160v-160H400v160ZM180-400h160v-160H180v160Zm440 0h160v-160H620v160ZM180-180h160v-160H180v160Zm440 0h160v-160H620v160Z\"/>\n",
              "  </svg>\n",
              "    </button>\n",
              "\n",
              "  <style>\n",
              "    .colab-df-container {\n",
              "      display:flex;\n",
              "      gap: 12px;\n",
              "    }\n",
              "\n",
              "    .colab-df-convert {\n",
              "      background-color: #E8F0FE;\n",
              "      border: none;\n",
              "      border-radius: 50%;\n",
              "      cursor: pointer;\n",
              "      display: none;\n",
              "      fill: #1967D2;\n",
              "      height: 32px;\n",
              "      padding: 0 0 0 0;\n",
              "      width: 32px;\n",
              "    }\n",
              "\n",
              "    .colab-df-convert:hover {\n",
              "      background-color: #E2EBFA;\n",
              "      box-shadow: 0px 1px 2px rgba(60, 64, 67, 0.3), 0px 1px 3px 1px rgba(60, 64, 67, 0.15);\n",
              "      fill: #174EA6;\n",
              "    }\n",
              "\n",
              "    .colab-df-buttons div {\n",
              "      margin-bottom: 4px;\n",
              "    }\n",
              "\n",
              "    [theme=dark] .colab-df-convert {\n",
              "      background-color: #3B4455;\n",
              "      fill: #D2E3FC;\n",
              "    }\n",
              "\n",
              "    [theme=dark] .colab-df-convert:hover {\n",
              "      background-color: #434B5C;\n",
              "      box-shadow: 0px 1px 3px 1px rgba(0, 0, 0, 0.15);\n",
              "      filter: drop-shadow(0px 1px 2px rgba(0, 0, 0, 0.3));\n",
              "      fill: #FFFFFF;\n",
              "    }\n",
              "  </style>\n",
              "\n",
              "    <script>\n",
              "      const buttonEl =\n",
              "        document.querySelector('#df-42c0c8fb-7c98-4e34-b843-13a80b95b04a button.colab-df-convert');\n",
              "      buttonEl.style.display =\n",
              "        google.colab.kernel.accessAllowed ? 'block' : 'none';\n",
              "\n",
              "      async function convertToInteractive(key) {\n",
              "        const element = document.querySelector('#df-42c0c8fb-7c98-4e34-b843-13a80b95b04a');\n",
              "        const dataTable =\n",
              "          await google.colab.kernel.invokeFunction('convertToInteractive',\n",
              "                                                    [key], {});\n",
              "        if (!dataTable) return;\n",
              "\n",
              "        const docLinkHtml = 'Like what you see? Visit the ' +\n",
              "          '<a target=\"_blank\" href=https://colab.research.google.com/notebooks/data_table.ipynb>data table notebook</a>'\n",
              "          + ' to learn more about interactive tables.';\n",
              "        element.innerHTML = '';\n",
              "        dataTable['output_type'] = 'display_data';\n",
              "        await google.colab.output.renderOutput(dataTable, element);\n",
              "        const docLink = document.createElement('div');\n",
              "        docLink.innerHTML = docLinkHtml;\n",
              "        element.appendChild(docLink);\n",
              "      }\n",
              "    </script>\n",
              "  </div>\n",
              "\n",
              "\n",
              "<div id=\"df-714f47a3-fb8b-4cd1-956a-a3682717bbc6\">\n",
              "  <button class=\"colab-df-quickchart\" onclick=\"quickchart('df-714f47a3-fb8b-4cd1-956a-a3682717bbc6')\"\n",
              "            title=\"Suggest charts\"\n",
              "            style=\"display:none;\">\n",
              "\n",
              "<svg xmlns=\"http://www.w3.org/2000/svg\" height=\"24px\"viewBox=\"0 0 24 24\"\n",
              "     width=\"24px\">\n",
              "    <g>\n",
              "        <path d=\"M19 3H5c-1.1 0-2 .9-2 2v14c0 1.1.9 2 2 2h14c1.1 0 2-.9 2-2V5c0-1.1-.9-2-2-2zM9 17H7v-7h2v7zm4 0h-2V7h2v10zm4 0h-2v-4h2v4z\"/>\n",
              "    </g>\n",
              "</svg>\n",
              "  </button>\n",
              "\n",
              "<style>\n",
              "  .colab-df-quickchart {\n",
              "      --bg-color: #E8F0FE;\n",
              "      --fill-color: #1967D2;\n",
              "      --hover-bg-color: #E2EBFA;\n",
              "      --hover-fill-color: #174EA6;\n",
              "      --disabled-fill-color: #AAA;\n",
              "      --disabled-bg-color: #DDD;\n",
              "  }\n",
              "\n",
              "  [theme=dark] .colab-df-quickchart {\n",
              "      --bg-color: #3B4455;\n",
              "      --fill-color: #D2E3FC;\n",
              "      --hover-bg-color: #434B5C;\n",
              "      --hover-fill-color: #FFFFFF;\n",
              "      --disabled-bg-color: #3B4455;\n",
              "      --disabled-fill-color: #666;\n",
              "  }\n",
              "\n",
              "  .colab-df-quickchart {\n",
              "    background-color: var(--bg-color);\n",
              "    border: none;\n",
              "    border-radius: 50%;\n",
              "    cursor: pointer;\n",
              "    display: none;\n",
              "    fill: var(--fill-color);\n",
              "    height: 32px;\n",
              "    padding: 0;\n",
              "    width: 32px;\n",
              "  }\n",
              "\n",
              "  .colab-df-quickchart:hover {\n",
              "    background-color: var(--hover-bg-color);\n",
              "    box-shadow: 0 1px 2px rgba(60, 64, 67, 0.3), 0 1px 3px 1px rgba(60, 64, 67, 0.15);\n",
              "    fill: var(--button-hover-fill-color);\n",
              "  }\n",
              "\n",
              "  .colab-df-quickchart-complete:disabled,\n",
              "  .colab-df-quickchart-complete:disabled:hover {\n",
              "    background-color: var(--disabled-bg-color);\n",
              "    fill: var(--disabled-fill-color);\n",
              "    box-shadow: none;\n",
              "  }\n",
              "\n",
              "  .colab-df-spinner {\n",
              "    border: 2px solid var(--fill-color);\n",
              "    border-color: transparent;\n",
              "    border-bottom-color: var(--fill-color);\n",
              "    animation:\n",
              "      spin 1s steps(1) infinite;\n",
              "  }\n",
              "\n",
              "  @keyframes spin {\n",
              "    0% {\n",
              "      border-color: transparent;\n",
              "      border-bottom-color: var(--fill-color);\n",
              "      border-left-color: var(--fill-color);\n",
              "    }\n",
              "    20% {\n",
              "      border-color: transparent;\n",
              "      border-left-color: var(--fill-color);\n",
              "      border-top-color: var(--fill-color);\n",
              "    }\n",
              "    30% {\n",
              "      border-color: transparent;\n",
              "      border-left-color: var(--fill-color);\n",
              "      border-top-color: var(--fill-color);\n",
              "      border-right-color: var(--fill-color);\n",
              "    }\n",
              "    40% {\n",
              "      border-color: transparent;\n",
              "      border-right-color: var(--fill-color);\n",
              "      border-top-color: var(--fill-color);\n",
              "    }\n",
              "    60% {\n",
              "      border-color: transparent;\n",
              "      border-right-color: var(--fill-color);\n",
              "    }\n",
              "    80% {\n",
              "      border-color: transparent;\n",
              "      border-right-color: var(--fill-color);\n",
              "      border-bottom-color: var(--fill-color);\n",
              "    }\n",
              "    90% {\n",
              "      border-color: transparent;\n",
              "      border-bottom-color: var(--fill-color);\n",
              "    }\n",
              "  }\n",
              "</style>\n",
              "\n",
              "  <script>\n",
              "    async function quickchart(key) {\n",
              "      const quickchartButtonEl =\n",
              "        document.querySelector('#' + key + ' button');\n",
              "      quickchartButtonEl.disabled = true;  // To prevent multiple clicks.\n",
              "      quickchartButtonEl.classList.add('colab-df-spinner');\n",
              "      try {\n",
              "        const charts = await google.colab.kernel.invokeFunction(\n",
              "            'suggestCharts', [key], {});\n",
              "      } catch (error) {\n",
              "        console.error('Error during call to suggestCharts:', error);\n",
              "      }\n",
              "      quickchartButtonEl.classList.remove('colab-df-spinner');\n",
              "      quickchartButtonEl.classList.add('colab-df-quickchart-complete');\n",
              "    }\n",
              "    (() => {\n",
              "      let quickchartButtonEl =\n",
              "        document.querySelector('#df-714f47a3-fb8b-4cd1-956a-a3682717bbc6 button');\n",
              "      quickchartButtonEl.style.display =\n",
              "        google.colab.kernel.accessAllowed ? 'block' : 'none';\n",
              "    })();\n",
              "  </script>\n",
              "</div>\n",
              "\n",
              "    </div>\n",
              "  </div>\n"
            ],
            "application/vnd.google.colaboratory.intrinsic+json": {
              "type": "dataframe",
              "variable_name": "newdata",
              "summary": "{\n  \"name\": \"newdata\",\n  \"rows\": 30000,\n  \"fields\": [\n    {\n      \"column\": \"Package Name\",\n      \"properties\": {\n        \"dtype\": \"category\",\n        \"num_unique_values\": 2236,\n        \"samples\": [\n          \"Jaipur - A Cycling Expedition to Nahargarh Fort (Online)\",\n          \"Romantic Weekend in the Hills of Mussoorie\",\n          \"Free Sightseeing - Goan Holiday with Family - 3N\"\n        ],\n        \"semantic_type\": \"\",\n        \"description\": \"\"\n      }\n    },\n    {\n      \"column\": \"Package Type\",\n      \"properties\": {\n        \"dtype\": \"category\",\n        \"num_unique_values\": 5,\n        \"samples\": [\n          \"Premium\",\n          \"Budget\",\n          \"Luxury\"\n        ],\n        \"semantic_type\": \"\",\n        \"description\": \"\"\n      }\n    },\n    {\n      \"column\": \"Start City\",\n      \"properties\": {\n        \"dtype\": \"category\",\n        \"num_unique_values\": 2,\n        \"samples\": [\n          \"New Delhi\",\n          \"Mumbai\"\n        ],\n        \"semantic_type\": \"\",\n        \"description\": \"\"\n      }\n    },\n    {\n      \"column\": \"Flight Stops\",\n      \"properties\": {\n        \"dtype\": \"number\",\n        \"std\": 0,\n        \"min\": 0,\n        \"max\": 2,\n        \"num_unique_values\": 3,\n        \"samples\": [\n          2,\n          0\n        ],\n        \"semantic_type\": \"\",\n        \"description\": \"\"\n      }\n    },\n    {\n      \"column\": \"Meals\",\n      \"properties\": {\n        \"dtype\": \"number\",\n        \"std\": 0,\n        \"min\": 2,\n        \"max\": 5,\n        \"num_unique_values\": 4,\n        \"samples\": [\n          5,\n          2\n        ],\n        \"semantic_type\": \"\",\n        \"description\": \"\"\n      }\n    },\n    {\n      \"column\": \"Per Person Price\",\n      \"properties\": {\n        \"dtype\": \"number\",\n        \"std\": 11643.641766347971,\n        \"min\": 791.0,\n        \"max\": 171062.5,\n        \"num_unique_values\": 17138,\n        \"samples\": [\n          19688.5,\n          15846.5\n        ],\n        \"semantic_type\": \"\",\n        \"description\": \"\"\n      }\n    },\n    {\n      \"column\": \"Count_Places\",\n      \"properties\": {\n        \"dtype\": \"number\",\n        \"std\": 1,\n        \"min\": 1,\n        \"max\": 11,\n        \"num_unique_values\": 10,\n        \"samples\": [\n          9,\n          3\n        ],\n        \"semantic_type\": \"\",\n        \"description\": \"\"\n      }\n    },\n    {\n      \"column\": \"Count_SS\",\n      \"properties\": {\n        \"dtype\": \"number\",\n        \"std\": 4,\n        \"min\": 1,\n        \"max\": 23,\n        \"num_unique_values\": 23,\n        \"samples\": [\n          11,\n          12\n        ],\n        \"semantic_type\": \"\",\n        \"description\": \"\"\n      }\n    },\n    {\n      \"column\": \"Count_Flights\",\n      \"properties\": {\n        \"dtype\": \"number\",\n        \"std\": 0,\n        \"min\": 1,\n        \"max\": 11,\n        \"num_unique_values\": 11,\n        \"samples\": [\n          10,\n          1\n        ],\n        \"semantic_type\": \"\",\n        \"description\": \"\"\n      }\n    },\n    {\n      \"column\": \"Year\",\n      \"properties\": {\n        \"dtype\": \"int32\",\n        \"num_unique_values\": 2,\n        \"samples\": [\n          2022,\n          2021\n        ],\n        \"semantic_type\": \"\",\n        \"description\": \"\"\n      }\n    },\n    {\n      \"column\": \"Peak_Months\",\n      \"properties\": {\n        \"dtype\": \"category\",\n        \"num_unique_values\": 2,\n        \"samples\": [\n          \"Lean Month\",\n          \"peak Month\"\n        ],\n        \"semantic_type\": \"\",\n        \"description\": \"\"\n      }\n    },\n    {\n      \"column\": \"Peak_Days\",\n      \"properties\": {\n        \"dtype\": \"category\",\n        \"num_unique_values\": 2,\n        \"samples\": [\n          \"peak_days\",\n          \"Lean_days\"\n        ],\n        \"semantic_type\": \"\",\n        \"description\": \"\"\n      }\n    },\n    {\n      \"column\": \"Duration\",\n      \"properties\": {\n        \"dtype\": \"number\",\n        \"std\": 1,\n        \"min\": 1,\n        \"max\": 14,\n        \"num_unique_values\": 13,\n        \"samples\": [\n          12,\n          9\n        ],\n        \"semantic_type\": \"\",\n        \"description\": \"\"\n      }\n    },\n    {\n      \"column\": \"Ratings\",\n      \"properties\": {\n        \"dtype\": \"number\",\n        \"std\": 0.2923325914018449,\n        \"min\": 1.5,\n        \"max\": 5.0,\n        \"num_unique_values\": 243,\n        \"samples\": [\n          4.074999999999999,\n          4.6\n        ],\n        \"semantic_type\": \"\",\n        \"description\": \"\"\n      }\n    }\n  ]\n}"
            }
          },
          "metadata": {},
          "execution_count": 67
        }
      ]
    },
    {
      "cell_type": "code",
      "source": [
        "newdata[\"Package Type\"].unique()"
      ],
      "metadata": {
        "colab": {
          "base_uri": "https://localhost:8080/"
        },
        "id": "Pg-UZOWvb5f0",
        "outputId": "b6e8e978-98d9-485d-d944-d375c9912edd"
      },
      "execution_count": 68,
      "outputs": [
        {
          "output_type": "execute_result",
          "data": {
            "text/plain": [
              "array(['Standard', 'Premium', 'Luxury', 'Deluxe', 'Budget'], dtype=object)"
            ]
          },
          "metadata": {},
          "execution_count": 68
        }
      ]
    },
    {
      "cell_type": "code",
      "source": [
        "newdata.groupby(\"Package Type\")[\"Per Person Price\"].describe()"
      ],
      "metadata": {
        "colab": {
          "base_uri": "https://localhost:8080/",
          "height": 238
        },
        "id": "rMwxr6xacm1a",
        "outputId": "42ed1fcb-2a2f-46b9-ec51-a73da8534e6d"
      },
      "execution_count": 69,
      "outputs": [
        {
          "output_type": "execute_result",
          "data": {
            "text/plain": [
              "               count          mean           std     min        25%       50%  \\\n",
              "Package Type                                                                    \n",
              "Budget         466.0  14151.447425   8236.467588  1757.0   8901.250  13114.25   \n",
              "Deluxe        6006.0  18409.508825  10228.326587  1198.0  12119.000  16426.75   \n",
              "Luxury        3278.0  23679.556437  11958.923869  2963.0  15471.625  22222.50   \n",
              "Premium       5581.0  23965.407006  13272.618593  2967.0  15232.000  21767.50   \n",
              "Standard      5669.0  16354.089081   9363.498521   791.0  10563.500  14729.50   \n",
              "\n",
              "                   75%       max  \n",
              "Package Type                      \n",
              "Budget        17927.00   64008.5  \n",
              "Deluxe        22774.25  171062.5  \n",
              "Luxury        29170.75  107850.0  \n",
              "Premium       29188.00  170763.0  \n",
              "Standard      19972.00  153795.0  "
            ],
            "text/html": [
              "\n",
              "  <div id=\"df-c77f19c0-3628-43c7-8632-66ad6a81197c\" class=\"colab-df-container\">\n",
              "    <div>\n",
              "<style scoped>\n",
              "    .dataframe tbody tr th:only-of-type {\n",
              "        vertical-align: middle;\n",
              "    }\n",
              "\n",
              "    .dataframe tbody tr th {\n",
              "        vertical-align: top;\n",
              "    }\n",
              "\n",
              "    .dataframe thead th {\n",
              "        text-align: right;\n",
              "    }\n",
              "</style>\n",
              "<table border=\"1\" class=\"dataframe\">\n",
              "  <thead>\n",
              "    <tr style=\"text-align: right;\">\n",
              "      <th></th>\n",
              "      <th>count</th>\n",
              "      <th>mean</th>\n",
              "      <th>std</th>\n",
              "      <th>min</th>\n",
              "      <th>25%</th>\n",
              "      <th>50%</th>\n",
              "      <th>75%</th>\n",
              "      <th>max</th>\n",
              "    </tr>\n",
              "    <tr>\n",
              "      <th>Package Type</th>\n",
              "      <th></th>\n",
              "      <th></th>\n",
              "      <th></th>\n",
              "      <th></th>\n",
              "      <th></th>\n",
              "      <th></th>\n",
              "      <th></th>\n",
              "      <th></th>\n",
              "    </tr>\n",
              "  </thead>\n",
              "  <tbody>\n",
              "    <tr>\n",
              "      <th>Budget</th>\n",
              "      <td>466.0</td>\n",
              "      <td>14151.447425</td>\n",
              "      <td>8236.467588</td>\n",
              "      <td>1757.0</td>\n",
              "      <td>8901.250</td>\n",
              "      <td>13114.25</td>\n",
              "      <td>17927.00</td>\n",
              "      <td>64008.5</td>\n",
              "    </tr>\n",
              "    <tr>\n",
              "      <th>Deluxe</th>\n",
              "      <td>6006.0</td>\n",
              "      <td>18409.508825</td>\n",
              "      <td>10228.326587</td>\n",
              "      <td>1198.0</td>\n",
              "      <td>12119.000</td>\n",
              "      <td>16426.75</td>\n",
              "      <td>22774.25</td>\n",
              "      <td>171062.5</td>\n",
              "    </tr>\n",
              "    <tr>\n",
              "      <th>Luxury</th>\n",
              "      <td>3278.0</td>\n",
              "      <td>23679.556437</td>\n",
              "      <td>11958.923869</td>\n",
              "      <td>2963.0</td>\n",
              "      <td>15471.625</td>\n",
              "      <td>22222.50</td>\n",
              "      <td>29170.75</td>\n",
              "      <td>107850.0</td>\n",
              "    </tr>\n",
              "    <tr>\n",
              "      <th>Premium</th>\n",
              "      <td>5581.0</td>\n",
              "      <td>23965.407006</td>\n",
              "      <td>13272.618593</td>\n",
              "      <td>2967.0</td>\n",
              "      <td>15232.000</td>\n",
              "      <td>21767.50</td>\n",
              "      <td>29188.00</td>\n",
              "      <td>170763.0</td>\n",
              "    </tr>\n",
              "    <tr>\n",
              "      <th>Standard</th>\n",
              "      <td>5669.0</td>\n",
              "      <td>16354.089081</td>\n",
              "      <td>9363.498521</td>\n",
              "      <td>791.0</td>\n",
              "      <td>10563.500</td>\n",
              "      <td>14729.50</td>\n",
              "      <td>19972.00</td>\n",
              "      <td>153795.0</td>\n",
              "    </tr>\n",
              "  </tbody>\n",
              "</table>\n",
              "</div>\n",
              "    <div class=\"colab-df-buttons\">\n",
              "\n",
              "  <div class=\"colab-df-container\">\n",
              "    <button class=\"colab-df-convert\" onclick=\"convertToInteractive('df-c77f19c0-3628-43c7-8632-66ad6a81197c')\"\n",
              "            title=\"Convert this dataframe to an interactive table.\"\n",
              "            style=\"display:none;\">\n",
              "\n",
              "  <svg xmlns=\"http://www.w3.org/2000/svg\" height=\"24px\" viewBox=\"0 -960 960 960\">\n",
              "    <path d=\"M120-120v-720h720v720H120Zm60-500h600v-160H180v160Zm220 220h160v-160H400v160Zm0 220h160v-160H400v160ZM180-400h160v-160H180v160Zm440 0h160v-160H620v160ZM180-180h160v-160H180v160Zm440 0h160v-160H620v160Z\"/>\n",
              "  </svg>\n",
              "    </button>\n",
              "\n",
              "  <style>\n",
              "    .colab-df-container {\n",
              "      display:flex;\n",
              "      gap: 12px;\n",
              "    }\n",
              "\n",
              "    .colab-df-convert {\n",
              "      background-color: #E8F0FE;\n",
              "      border: none;\n",
              "      border-radius: 50%;\n",
              "      cursor: pointer;\n",
              "      display: none;\n",
              "      fill: #1967D2;\n",
              "      height: 32px;\n",
              "      padding: 0 0 0 0;\n",
              "      width: 32px;\n",
              "    }\n",
              "\n",
              "    .colab-df-convert:hover {\n",
              "      background-color: #E2EBFA;\n",
              "      box-shadow: 0px 1px 2px rgba(60, 64, 67, 0.3), 0px 1px 3px 1px rgba(60, 64, 67, 0.15);\n",
              "      fill: #174EA6;\n",
              "    }\n",
              "\n",
              "    .colab-df-buttons div {\n",
              "      margin-bottom: 4px;\n",
              "    }\n",
              "\n",
              "    [theme=dark] .colab-df-convert {\n",
              "      background-color: #3B4455;\n",
              "      fill: #D2E3FC;\n",
              "    }\n",
              "\n",
              "    [theme=dark] .colab-df-convert:hover {\n",
              "      background-color: #434B5C;\n",
              "      box-shadow: 0px 1px 3px 1px rgba(0, 0, 0, 0.15);\n",
              "      filter: drop-shadow(0px 1px 2px rgba(0, 0, 0, 0.3));\n",
              "      fill: #FFFFFF;\n",
              "    }\n",
              "  </style>\n",
              "\n",
              "    <script>\n",
              "      const buttonEl =\n",
              "        document.querySelector('#df-c77f19c0-3628-43c7-8632-66ad6a81197c button.colab-df-convert');\n",
              "      buttonEl.style.display =\n",
              "        google.colab.kernel.accessAllowed ? 'block' : 'none';\n",
              "\n",
              "      async function convertToInteractive(key) {\n",
              "        const element = document.querySelector('#df-c77f19c0-3628-43c7-8632-66ad6a81197c');\n",
              "        const dataTable =\n",
              "          await google.colab.kernel.invokeFunction('convertToInteractive',\n",
              "                                                    [key], {});\n",
              "        if (!dataTable) return;\n",
              "\n",
              "        const docLinkHtml = 'Like what you see? Visit the ' +\n",
              "          '<a target=\"_blank\" href=https://colab.research.google.com/notebooks/data_table.ipynb>data table notebook</a>'\n",
              "          + ' to learn more about interactive tables.';\n",
              "        element.innerHTML = '';\n",
              "        dataTable['output_type'] = 'display_data';\n",
              "        await google.colab.output.renderOutput(dataTable, element);\n",
              "        const docLink = document.createElement('div');\n",
              "        docLink.innerHTML = docLinkHtml;\n",
              "        element.appendChild(docLink);\n",
              "      }\n",
              "    </script>\n",
              "  </div>\n",
              "\n",
              "\n",
              "<div id=\"df-efdfc618-daaf-4aba-852c-07d2cd38eeb2\">\n",
              "  <button class=\"colab-df-quickchart\" onclick=\"quickchart('df-efdfc618-daaf-4aba-852c-07d2cd38eeb2')\"\n",
              "            title=\"Suggest charts\"\n",
              "            style=\"display:none;\">\n",
              "\n",
              "<svg xmlns=\"http://www.w3.org/2000/svg\" height=\"24px\"viewBox=\"0 0 24 24\"\n",
              "     width=\"24px\">\n",
              "    <g>\n",
              "        <path d=\"M19 3H5c-1.1 0-2 .9-2 2v14c0 1.1.9 2 2 2h14c1.1 0 2-.9 2-2V5c0-1.1-.9-2-2-2zM9 17H7v-7h2v7zm4 0h-2V7h2v10zm4 0h-2v-4h2v4z\"/>\n",
              "    </g>\n",
              "</svg>\n",
              "  </button>\n",
              "\n",
              "<style>\n",
              "  .colab-df-quickchart {\n",
              "      --bg-color: #E8F0FE;\n",
              "      --fill-color: #1967D2;\n",
              "      --hover-bg-color: #E2EBFA;\n",
              "      --hover-fill-color: #174EA6;\n",
              "      --disabled-fill-color: #AAA;\n",
              "      --disabled-bg-color: #DDD;\n",
              "  }\n",
              "\n",
              "  [theme=dark] .colab-df-quickchart {\n",
              "      --bg-color: #3B4455;\n",
              "      --fill-color: #D2E3FC;\n",
              "      --hover-bg-color: #434B5C;\n",
              "      --hover-fill-color: #FFFFFF;\n",
              "      --disabled-bg-color: #3B4455;\n",
              "      --disabled-fill-color: #666;\n",
              "  }\n",
              "\n",
              "  .colab-df-quickchart {\n",
              "    background-color: var(--bg-color);\n",
              "    border: none;\n",
              "    border-radius: 50%;\n",
              "    cursor: pointer;\n",
              "    display: none;\n",
              "    fill: var(--fill-color);\n",
              "    height: 32px;\n",
              "    padding: 0;\n",
              "    width: 32px;\n",
              "  }\n",
              "\n",
              "  .colab-df-quickchart:hover {\n",
              "    background-color: var(--hover-bg-color);\n",
              "    box-shadow: 0 1px 2px rgba(60, 64, 67, 0.3), 0 1px 3px 1px rgba(60, 64, 67, 0.15);\n",
              "    fill: var(--button-hover-fill-color);\n",
              "  }\n",
              "\n",
              "  .colab-df-quickchart-complete:disabled,\n",
              "  .colab-df-quickchart-complete:disabled:hover {\n",
              "    background-color: var(--disabled-bg-color);\n",
              "    fill: var(--disabled-fill-color);\n",
              "    box-shadow: none;\n",
              "  }\n",
              "\n",
              "  .colab-df-spinner {\n",
              "    border: 2px solid var(--fill-color);\n",
              "    border-color: transparent;\n",
              "    border-bottom-color: var(--fill-color);\n",
              "    animation:\n",
              "      spin 1s steps(1) infinite;\n",
              "  }\n",
              "\n",
              "  @keyframes spin {\n",
              "    0% {\n",
              "      border-color: transparent;\n",
              "      border-bottom-color: var(--fill-color);\n",
              "      border-left-color: var(--fill-color);\n",
              "    }\n",
              "    20% {\n",
              "      border-color: transparent;\n",
              "      border-left-color: var(--fill-color);\n",
              "      border-top-color: var(--fill-color);\n",
              "    }\n",
              "    30% {\n",
              "      border-color: transparent;\n",
              "      border-left-color: var(--fill-color);\n",
              "      border-top-color: var(--fill-color);\n",
              "      border-right-color: var(--fill-color);\n",
              "    }\n",
              "    40% {\n",
              "      border-color: transparent;\n",
              "      border-right-color: var(--fill-color);\n",
              "      border-top-color: var(--fill-color);\n",
              "    }\n",
              "    60% {\n",
              "      border-color: transparent;\n",
              "      border-right-color: var(--fill-color);\n",
              "    }\n",
              "    80% {\n",
              "      border-color: transparent;\n",
              "      border-right-color: var(--fill-color);\n",
              "      border-bottom-color: var(--fill-color);\n",
              "    }\n",
              "    90% {\n",
              "      border-color: transparent;\n",
              "      border-bottom-color: var(--fill-color);\n",
              "    }\n",
              "  }\n",
              "</style>\n",
              "\n",
              "  <script>\n",
              "    async function quickchart(key) {\n",
              "      const quickchartButtonEl =\n",
              "        document.querySelector('#' + key + ' button');\n",
              "      quickchartButtonEl.disabled = true;  // To prevent multiple clicks.\n",
              "      quickchartButtonEl.classList.add('colab-df-spinner');\n",
              "      try {\n",
              "        const charts = await google.colab.kernel.invokeFunction(\n",
              "            'suggestCharts', [key], {});\n",
              "      } catch (error) {\n",
              "        console.error('Error during call to suggestCharts:', error);\n",
              "      }\n",
              "      quickchartButtonEl.classList.remove('colab-df-spinner');\n",
              "      quickchartButtonEl.classList.add('colab-df-quickchart-complete');\n",
              "    }\n",
              "    (() => {\n",
              "      let quickchartButtonEl =\n",
              "        document.querySelector('#df-efdfc618-daaf-4aba-852c-07d2cd38eeb2 button');\n",
              "      quickchartButtonEl.style.display =\n",
              "        google.colab.kernel.accessAllowed ? 'block' : 'none';\n",
              "    })();\n",
              "  </script>\n",
              "</div>\n",
              "\n",
              "    </div>\n",
              "  </div>\n"
            ],
            "application/vnd.google.colaboratory.intrinsic+json": {
              "type": "dataframe",
              "summary": "{\n  \"name\": \"newdata\",\n  \"rows\": 5,\n  \"fields\": [\n    {\n      \"column\": \"Package Type\",\n      \"properties\": {\n        \"dtype\": \"string\",\n        \"num_unique_values\": 5,\n        \"samples\": [\n          \"Deluxe\",\n          \"Standard\",\n          \"Luxury\"\n        ],\n        \"semantic_type\": \"\",\n        \"description\": \"\"\n      }\n    },\n    {\n      \"column\": \"count\",\n      \"properties\": {\n        \"dtype\": \"number\",\n        \"std\": 2351.573834690291,\n        \"min\": 466.0,\n        \"max\": 6006.0,\n        \"num_unique_values\": 5,\n        \"samples\": [\n          6006.0,\n          5669.0,\n          3278.0\n        ],\n        \"semantic_type\": \"\",\n        \"description\": \"\"\n      }\n    },\n    {\n      \"column\": \"mean\",\n      \"properties\": {\n        \"dtype\": \"number\",\n        \"std\": 4385.338533083042,\n        \"min\": 14151.447424892704,\n        \"max\": 23965.40700591292,\n        \"num_unique_values\": 5,\n        \"samples\": [\n          18409.508824508823,\n          16354.089080966662,\n          23679.556436851737\n        ],\n        \"semantic_type\": \"\",\n        \"description\": \"\"\n      }\n    },\n    {\n      \"column\": \"std\",\n      \"properties\": {\n        \"dtype\": \"number\",\n        \"std\": 2015.0813052547153,\n        \"min\": 8236.467588177646,\n        \"max\": 13272.618592518269,\n        \"num_unique_values\": 5,\n        \"samples\": [\n          10228.326587490012,\n          9363.498521253601,\n          11958.92386875106\n        ],\n        \"semantic_type\": \"\",\n        \"description\": \"\"\n      }\n    },\n    {\n      \"column\": \"min\",\n      \"properties\": {\n        \"dtype\": \"number\",\n        \"std\": 1000.6743726107909,\n        \"min\": 791.0,\n        \"max\": 2967.0,\n        \"num_unique_values\": 5,\n        \"samples\": [\n          1198.0,\n          791.0,\n          2963.0\n        ],\n        \"semantic_type\": \"\",\n        \"description\": \"\"\n      }\n    },\n    {\n      \"column\": \"25%\",\n      \"properties\": {\n        \"dtype\": \"number\",\n        \"std\": 2877.9998295257074,\n        \"min\": 8901.25,\n        \"max\": 15471.625,\n        \"num_unique_values\": 5,\n        \"samples\": [\n          12119.0,\n          10563.5,\n          15471.625\n        ],\n        \"semantic_type\": \"\",\n        \"description\": \"\"\n      }\n    },\n    {\n      \"column\": \"50%\",\n      \"properties\": {\n        \"dtype\": \"number\",\n        \"std\": 4137.034847720043,\n        \"min\": 13114.25,\n        \"max\": 22222.5,\n        \"num_unique_values\": 5,\n        \"samples\": [\n          16426.75,\n          14729.5,\n          22222.5\n        ],\n        \"semantic_type\": \"\",\n        \"description\": \"\"\n      }\n    },\n    {\n      \"column\": \"75%\",\n      \"properties\": {\n        \"dtype\": \"number\",\n        \"std\": 5197.912341147165,\n        \"min\": 17927.0,\n        \"max\": 29188.0,\n        \"num_unique_values\": 5,\n        \"samples\": [\n          22774.25,\n          19972.0,\n          29170.75\n        ],\n        \"semantic_type\": \"\",\n        \"description\": \"\"\n      }\n    },\n    {\n      \"column\": \"max\",\n      \"properties\": {\n        \"dtype\": \"number\",\n        \"std\": 46632.474157769066,\n        \"min\": 64008.5,\n        \"max\": 171062.5,\n        \"num_unique_values\": 5,\n        \"samples\": [\n          171062.5,\n          153795.0,\n          107850.0\n        ],\n        \"semantic_type\": \"\",\n        \"description\": \"\"\n      }\n    }\n  ]\n}"
            }
          },
          "metadata": {},
          "execution_count": 69
        }
      ]
    },
    {
      "cell_type": "code",
      "source": [
        "package = {\"Budget\":1, \"Deluxe\":5, \"Luxury\":2, \"Premium\":4,\"Standard\":3 }\n",
        "\n",
        "newdata[\"Package Type\"] = newdata[\"Package Type\"].map(package)"
      ],
      "metadata": {
        "id": "n8GhbG1actVy"
      },
      "execution_count": 71,
      "outputs": []
    },
    {
      "cell_type": "code",
      "source": [
        "# count of package type basis duration\n",
        "\n",
        "newdata[\"PkgType_Duration_count\"]=newdata.groupby(\"Package Type\")[\"Duration\"].transform(\"count\")\n",
        "\n",
        "newdata[\"PkgType_Duration_mean\"]=newdata.groupby(\"Package Type\")[\"Duration\"].transform(\"mean\")\n",
        "\n",
        "newdata[\"PkgType_Duration_std\"]=newdata.groupby(\"Package Type\")[\"Duration\"].transform(\"std\")\n",
        "\n",
        "# count of package name basis duration\n",
        "\n",
        "newdata[\"PkgName_Duration_count\"]=newdata.groupby(\"Package Name\")[\"Duration\"].transform(\"count\")"
      ],
      "metadata": {
        "id": "4RWgbNyldAHe"
      },
      "execution_count": 80,
      "outputs": []
    },
    {
      "cell_type": "code",
      "source": [
        "newdata.columns"
      ],
      "metadata": {
        "colab": {
          "base_uri": "https://localhost:8080/"
        },
        "id": "FxPVNYBTfeNf",
        "outputId": "885be37e-beb3-4862-a7b4-0d56a5076203"
      },
      "execution_count": 83,
      "outputs": [
        {
          "output_type": "execute_result",
          "data": {
            "text/plain": [
              "Index(['Package Name', 'Package Type', 'Start City', 'Flight Stops', 'Meals',\n",
              "       'Per Person Price', 'Count_Places', 'Count_SS', 'Count_Flights', 'Year',\n",
              "       'Peak_Months', 'Peak_Days', 'Duration', 'Ratings',\n",
              "       'PkgType_Duration_count', 'PkgType_Duration_mean',\n",
              "       'PkgType_Duration_std', 'PkgName_Duration_count'],\n",
              "      dtype='object')"
            ]
          },
          "metadata": {},
          "execution_count": 83
        }
      ]
    },
    {
      "cell_type": "code",
      "source": [
        "newdata.drop([\"Package Name\",\"Package Type\",\"Start City\"],axis=1,inplace=True)"
      ],
      "metadata": {
        "id": "uUB0HHHrfrKS"
      },
      "execution_count": 84,
      "outputs": []
    },
    {
      "cell_type": "code",
      "source": [
        "newdata[\"Year\"]=newdata.Year.astype(\"object\")"
      ],
      "metadata": {
        "id": "Ys3Gh6ULiXru"
      },
      "execution_count": 86,
      "outputs": []
    },
    {
      "cell_type": "code",
      "source": [
        "# categorical encoding\n",
        "dummydata = pd.get_dummies(newdata,drop_first=True)\n",
        "# Split the Data in Train and Test\n",
        "newtrain = dummydata.loc[0:train.shape[0]-1,:]\n",
        "newtest = dummydata.loc[train.shape[0]:,:]\n",
        "train.shape, test.shape, newtrain.shape, newtest.shape\n",
        "# Build The model"
      ],
      "metadata": {
        "colab": {
          "base_uri": "https://localhost:8080/"
        },
        "id": "DDv_unIQiZuJ",
        "outputId": "a58e82c0-59a1-4199-d9c3-f2fd965697c2"
      },
      "execution_count": 87,
      "outputs": [
        {
          "output_type": "execute_result",
          "data": {
            "text/plain": [
              "((21000, 15), (9000, 14), (21000, 15), (9000, 15))"
            ]
          },
          "metadata": {},
          "execution_count": 87
        }
      ]
    },
    {
      "cell_type": "code",
      "source": [
        "# Dropping the target variable from the newtest\n",
        "\n",
        "newtest.drop(\"Per Person Price\",axis=1,inplace=True)"
      ],
      "metadata": {
        "id": "OsV31tQljUb9"
      },
      "execution_count": 88,
      "outputs": []
    },
    {
      "cell_type": "code",
      "source": [
        "from sklearn.ensemble import GradientBoostingRegressor\n",
        "\n",
        "X = newtrain.drop(\"Per Person Price\",axis=1)\n",
        "y = newtrain[\"Per Person Price\"]\n",
        "\n",
        "gbm = GradientBoostingRegressor()\n",
        "pred_gbm = gbm.fit(X,y).predict(newtest)"
      ],
      "metadata": {
        "id": "FHTMvt7Dj9Wk"
      },
      "execution_count": 90,
      "outputs": []
    },
    {
      "cell_type": "code",
      "source": [
        "submission = pd.DataFrame({'Per Person Price': pred_gbm})\n",
        "submission.to_csv('GBM.csv', index=False)"
      ],
      "metadata": {
        "id": "eJcoLyB4kUns"
      },
      "execution_count": 91,
      "outputs": []
    },
    {
      "cell_type": "code",
      "source": [],
      "metadata": {
        "id": "r_RBQS9SmOy6"
      },
      "execution_count": null,
      "outputs": []
    }
  ]
}